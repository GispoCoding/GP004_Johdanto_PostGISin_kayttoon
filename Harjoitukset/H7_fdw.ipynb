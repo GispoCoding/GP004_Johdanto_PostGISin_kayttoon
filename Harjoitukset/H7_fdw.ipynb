{
 "cells": [
  {
   "cell_type": "markdown",
   "metadata": {},
   "source": [
    "# Osa 7: Foreign Data Wrapper (fdw)\n",
    "Tässä osassa tutustutaan fdw:ihin csv-tiedoston lukemisen kautta."
   ]
  },
  {
   "cell_type": "code",
   "execution_count": null,
   "metadata": {},
   "outputs": [],
   "source": [
    "# Lataa SQL-lisäosa\n",
    "%load_ext sql\n",
    "# Luo tietokantayhteys tietokantaan koulutus\n",
    "from ipygis import get_connection_url\n",
    "c_url = get_connection_url(dbname='koulutus')\n",
    "%sql $c_url"
   ]
  },
  {
   "cell_type": "markdown",
   "metadata": {},
   "source": [
    "## file_fdw -lisäosa tiedostojen lukemiseen\n",
    "Asenna aluksi `file_fdw`-lisäosa, jonka kautta voidaan luoda fdw csv-tiedostojen lukemiseen."
   ]
  },
  {
   "cell_type": "code",
   "execution_count": null,
   "metadata": {},
   "outputs": [],
   "source": [
    "%sql CREATE EXTENSION file_fdw;"
   ]
  },
  {
   "cell_type": "markdown",
   "metadata": {},
   "source": [
    "Luo sitten `foreign server` käyttäen file_fdw fdw:tä."
   ]
  },
  {
   "cell_type": "code",
   "execution_count": null,
   "metadata": {},
   "outputs": [],
   "source": [
    "%sql CREATE SERVER log_server FOREIGN DATA WRAPPER file_fdw;"
   ]
  },
  {
   "cell_type": "markdown",
   "metadata": {},
   "source": [
    "Ladataan nyt vieraana tauluna sama [etunimet.csv](/edit/data/etunimet.csv)-tiedosto, kuin aikaisemmin tehdyssä [harjoituksessa](H3_tietokannat_ja_taulut.ipynb#Harjoitus-3.2):"
   ]
  },
  {
   "cell_type": "code",
   "execution_count": null,
   "metadata": {},
   "outputs": [],
   "source": [
    "%%sql \n",
    "\n",
    "CREATE FOREIGN TABLE etunimet2 (\n",
    "    nimi text NOT NULL,\n",
    "    lukumaara integer NOT NULL,\n",
    "    sukupuoli text NOT NULL\n",
    ") SERVER log_server OPTIONS(filename '/home/oppilas/pg-training/Harjoitukset/data/etunimet.csv', \n",
    "                            format 'csv', header 'true');"
   ]
  },
  {
   "cell_type": "markdown",
   "metadata": {},
   "source": [
    "Tarkistetaan, että taulusta lukeminen toimii:"
   ]
  },
  {
   "cell_type": "code",
   "execution_count": null,
   "metadata": {},
   "outputs": [],
   "source": [
    "%sql SELECT * FROM etunimet2 LIMIT 20;"
   ]
  },
  {
   "cell_type": "markdown",
   "metadata": {},
   "source": [
    "Vieraan taulun voi poistaa syntaksilla:\n",
    "\n",
    "```sql\n",
    "DROP FOREIGN TABLE taulun_nimi;\n",
    "```"
   ]
  },
  {
   "cell_type": "code",
   "execution_count": null,
   "metadata": {},
   "outputs": [],
   "source": [
    "%sql DROP FOREIGN TABLE etunimet2;"
   ]
  },
  {
   "cell_type": "markdown",
   "metadata": {},
   "source": [
    "## **Harjoitus 7.1**: csv-tiedostosta lukeminen\n",
    "Luo vieras taulu `audit_log` käyttäen tiedostoa [audit_log.csv](/edit/data/audit_log.csv). Kenttien nimet ovat ensimmäisellä rivillä."
   ]
  },
  {
   "cell_type": "code",
   "execution_count": null,
   "metadata": {
    "solution2": "hidden",
    "solution2_first": true
   },
   "outputs": [],
   "source": [
    "%%sql\n",
    "\n",
    "FOREIGN TABLE audit_log (\n",
    "    log_time timestamp with time zone,\n",
    "    user_name text,\n",
    "    database_name text,\n",
    "    process_id integer,\n",
    "    connection_from text,\n",
    "    session_id text,\n",
    "    session_line_num integer,\n",
    "    process_status text,\n",
    "    session_start_time timestamp with time zone,\n",
    "    virtual_transaction_id text,\n",
    "    transaction_id integer,\n",
    "    error_severity text,\n",
    "    sql_state_code integer,\n",
    "    message text,\n",
    "    detail text,\n",
    "    hint text,\n",
    "    internal_query text,\n",
    "    internal_query_pos text,\n",
    "    context text,\n",
    "    query text,\n",
    "    query_pos integer,\n",
    "    location text,\n",
    "    application_name text,\n",
    "    command_tag text,\n",
    "    audit_tag text\n",
    ") SERVER ..."
   ]
  },
  {
   "cell_type": "code",
   "execution_count": null,
   "metadata": {
    "solution2": "hidden"
   },
   "outputs": [],
   "source": [
    "%%sql\n",
    "\n",
    "CREATE FOREIGN TABLE audit_log (\n",
    "    log_time timestamp with time zone,\n",
    "    user_name text,\n",
    "    database_name text,\n",
    "    process_id integer,\n",
    "    connection_from text,\n",
    "    session_id text,\n",
    "    session_line_num integer,\n",
    "    process_status text,\n",
    "    session_start_time timestamp with time zone,\n",
    "    virtual_transaction_id text,\n",
    "    transaction_id integer,\n",
    "    error_severity text,\n",
    "    sql_state_code integer,\n",
    "    message text,\n",
    "    detail text,\n",
    "    hint text,\n",
    "    internal_query text,\n",
    "    internal_query_pos text,\n",
    "    context text,\n",
    "    query text,\n",
    "    query_pos integer,\n",
    "    location text,\n",
    "    application_name text,\n",
    "    command_tag text,\n",
    "    audit_tag text\n",
    ") SERVER log_server OPTIONS(filename '/home/oppilas/pg-training/Harjoitukset/data/audit_log.csv', \n",
    "                            format 'csv', header 'true');"
   ]
  },
  {
   "cell_type": "markdown",
   "metadata": {},
   "source": [
    "Listaa `audit_log`-taulun rivit"
   ]
  },
  {
   "cell_type": "code",
   "execution_count": null,
   "metadata": {},
   "outputs": [],
   "source": [
    "res = %sql SELECT * FROM audit_log;\n",
    "res"
   ]
  },
  {
   "cell_type": "markdown",
   "metadata": {},
   "source": [
    "### Tarkistus\n",
    "Aja alla oleva solu tarkistaaksesi, että rivejä on oikea määrä"
   ]
  },
  {
   "cell_type": "code",
   "execution_count": null,
   "metadata": {},
   "outputs": [],
   "source": [
    "assert len(res) == 32, f'Rivejä ei ole oikea määrä: {len(res)}'"
   ]
  },
  {
   "cell_type": "markdown",
   "metadata": {},
   "source": [
    "## **Harjoitus 7.2:** Toisesta PostgreSQL-kannasta lukeminen\n",
    "\n",
    "Tässä harjoituksessa luetaan tietokannan `postgres` taulua `kunnat` kannan `koulutus` sisältä.\n",
    "Ota aluksi käyttöön lisäosa `postgres_fdw`\n",
    "\n"
   ]
  },
  {
   "cell_type": "code",
   "execution_count": null,
   "metadata": {
    "solution2": "hidden",
    "solution2_first": true
   },
   "outputs": [],
   "source": [
    "%sql CREATE ..."
   ]
  },
  {
   "cell_type": "code",
   "execution_count": null,
   "metadata": {
    "solution2": "hidden"
   },
   "outputs": [],
   "source": [
    "%sql CREATE EXTENSION postgres_fdw;"
   ]
  },
  {
   "cell_type": "markdown",
   "metadata": {},
   "source": [
    "Luo sitten foreign server `postgres_server` käyttäen postgres_fdw:tä"
   ]
  },
  {
   "cell_type": "code",
   "execution_count": null,
   "metadata": {},
   "outputs": [],
   "source": [
    "%%sql\n",
    "CREATE SERVER postgres_server\n",
    "        FOREIGN DATA WRAPPER postgres_fdw\n",
    "        OPTIONS (host 'localhost', port '5432', dbname 'postgres');"
   ]
  },
  {
   "cell_type": "markdown",
   "metadata": {},
   "source": [
    "postgres_fdw:n kanssa on tehtävä myös käyttäjämäppäys, jolla nykyisen tietokannan käyttäjälle annetaan vastine toisen tietokannan parissa."
   ]
  },
  {
   "cell_type": "code",
   "execution_count": null,
   "metadata": {},
   "outputs": [],
   "source": [
    "%%sql\n",
    "CREATE USER MAPPING FOR postgres\n",
    "        SERVER postgres_server\n",
    "        OPTIONS (user 'postgres', password '<KYSY SALASANA>');"
   ]
  },
  {
   "cell_type": "markdown",
   "metadata": {},
   "source": [
    "Koska luemme taulua `kunnat`, ota käyttöön nykyiseen tietokantaan lisäosa `postgis`."
   ]
  },
  {
   "cell_type": "code",
   "execution_count": null,
   "metadata": {
    "solution2": "hidden",
    "solution2_first": true
   },
   "outputs": [],
   "source": [
    "%sql CREATE ..."
   ]
  },
  {
   "cell_type": "code",
   "execution_count": null,
   "metadata": {
    "solution2": "hidden"
   },
   "outputs": [],
   "source": [
    "%sql CREATE EXTENSION postgis;"
   ]
  },
  {
   "cell_type": "markdown",
   "metadata": {},
   "source": [
    "Luodaan nyt vieras taulu `kunnat`. Täytä arvot parametreihin `schema_name` ja `table_name`."
   ]
  },
  {
   "cell_type": "code",
   "execution_count": null,
   "metadata": {
    "solution2": "shown",
    "solution2_first": true
   },
   "outputs": [],
   "source": [
    "%%sql\n",
    "CREATE FOREIGN TABLE kunnat (\n",
    "    ogc_fid integer,\n",
    "    geom geometry(MultiPolygon,3067),\n",
    "    nimi character varying,\n",
    "    id numeric(10,0)\n",
    ")\n",
    "    SERVER postgres_server\n",
    "    OPTIONS (schema_name 'täydennä', table_name 'täydennä');"
   ]
  },
  {
   "cell_type": "code",
   "execution_count": null,
   "metadata": {
    "solution2": "shown"
   },
   "outputs": [],
   "source": [
    "%%sql\n",
    "CREATE FOREIGN TABLE kunnat (\n",
    "    ogc_fid integer,\n",
    "    geom geometry(MultiPolygon,3067),\n",
    "    nimi character varying,\n",
    "    id numeric(10,0)\n",
    ")\n",
    "    SERVER postgres_server\n",
    "    OPTIONS (schema_name 'public', table_name 'kunnat');"
   ]
  },
  {
   "cell_type": "markdown",
   "metadata": {},
   "source": [
    "Listaa kunnat-taulun rivejä"
   ]
  },
  {
   "cell_type": "code",
   "execution_count": null,
   "metadata": {},
   "outputs": [],
   "source": [
    "res = %sql SELECT id, nimi FROM kunnat;\n",
    "res"
   ]
  },
  {
   "cell_type": "markdown",
   "metadata": {},
   "source": [
    "### Tarkistus\n",
    "Aja alla oleva solu tarkistaaksesi, että rivejä on oikea määrä"
   ]
  },
  {
   "cell_type": "code",
   "execution_count": null,
   "metadata": {},
   "outputs": [],
   "source": [
    "assert len(res) == 95, f'Rivejä ei ole oikea määrä: {len(res)}'"
   ]
  },
  {
   "cell_type": "markdown",
   "metadata": {},
   "source": [
    "<a rel=\"license\" href=\"http://creativecommons.org/licenses/by-nd/4.0/\"><img alt=\"Creative Commons License\" style=\"border-width:0\" src=\"https://i.creativecommons.org/l/by-nd/4.0/88x31.png\" />"
   ]
  }
 ],
 "metadata": {
  "kernelspec": {
   "display_name": "Python 3",
   "language": "python",
   "name": "python3"
  },
  "language_info": {
   "codemirror_mode": {
    "name": "ipython",
    "version": 3
   },
   "file_extension": ".py",
   "mimetype": "text/x-python",
   "name": "python",
   "nbconvert_exporter": "python",
   "pygments_lexer": "ipython3",
   "version": "3.8.5"
  }
 },
 "nbformat": 4,
 "nbformat_minor": 4
}
