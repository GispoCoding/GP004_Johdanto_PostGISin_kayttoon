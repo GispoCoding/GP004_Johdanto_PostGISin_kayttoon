{
 "cells": [
  {
   "cell_type": "markdown",
   "metadata": {},
   "source": [
    "# Osa 5: Indeksit\n",
    "Tässä osassa luodaan erilaisia indeksejä ja tarkastellaan niiden vaikutusta."
   ]
  },
  {
   "cell_type": "code",
   "execution_count": null,
   "metadata": {},
   "outputs": [],
   "source": [
    "# Lataa SQL-lisäosa\n",
    "%load_ext sql\n",
    "# Luo tietokantayhteys tietokantaan postgres\n",
    "from ipygis import get_connection_url\n",
    "c_url = get_connection_url()\n",
    "%sql $c_url"
   ]
  },
  {
   "cell_type": "markdown",
   "metadata": {},
   "source": [
    "Luetaan taulusta kuinka monella rivillä ajoneuvoluokka on M1."
   ]
  },
  {
   "cell_type": "code",
   "execution_count": null,
   "metadata": {
    "scrolled": true
   },
   "outputs": [],
   "source": [
    "import time\n",
    "t = time.time()\n",
    "res = %sql SELECT count(*) FROM tieliikenne WHERE ajoneuvoluokka = 'M1'\n",
    "print(f\"Kyselyn lukemiseen meni {time.time() -t:5.2} s\")\n",
    "res"
   ]
  },
  {
   "cell_type": "markdown",
   "metadata": {},
   "source": [
    "## Indeksien luominen\n",
    "Luodaan yksinkertainen B-TREE -indeksi sarakkeelle `ajoneuvoluokka`:"
   ]
  },
  {
   "cell_type": "code",
   "execution_count": null,
   "metadata": {},
   "outputs": [],
   "source": [
    "%sql CREATE INDEX ajoneuvoluokka_idx ON tieliikenne(ajoneuvoluokka)"
   ]
  },
  {
   "cell_type": "markdown",
   "metadata": {},
   "source": [
    "Tarkista nyt uudestaaan, kuinka kauan suoritus kestää."
   ]
  },
  {
   "cell_type": "code",
   "execution_count": null,
   "metadata": {},
   "outputs": [],
   "source": [
    "t = time.time()\n",
    "res = %sql SELECT count(*) FROM tieliikenne WHERE ajoneuvoluokka = 'M1'\n",
    "print(f\"Kyselyn lukemiseen meni {time.time() -t:5.2} s\")\n",
    "res"
   ]
  },
  {
   "cell_type": "markdown",
   "metadata": {},
   "source": [
    "## Indeksien koko\n",
    "Indeksit kasvattavat tietokannan kokoa. Aja seuraava solu nähdäksesi kaikkien`tieliikenne`-taulun indeksien koot:"
   ]
  },
  {
   "cell_type": "code",
   "execution_count": null,
   "metadata": {},
   "outputs": [],
   "source": [
    "%sql SELECT pg_size_pretty(pg_indexes_size('tieliikenne'));"
   ]
  },
  {
   "cell_type": "markdown",
   "metadata": {},
   "source": [
    "## Indeksien poistaminen\n",
    "Indeksin voi poistaa syntaksilla: \n",
    "```sql\n",
    "DROP INDEX <nimi>\n",
    "``` "
   ]
  },
  {
   "cell_type": "code",
   "execution_count": null,
   "metadata": {},
   "outputs": [],
   "source": [
    "%sql DROP INDEX ajoneuvoluokka_idx"
   ]
  },
  {
   "cell_type": "markdown",
   "metadata": {},
   "source": [
    "## **Harjoitus 5.1**: Spatiaalinen indeksi\n",
    "Indeksit ovat erityisen tärkeitä paikkatiedon parissa työskennellessä. Yritä seuraavaa kyselyä aluksi aineistolla, jolla ei ole indeksejä.\n",
    "\n",
    "```sql\n",
    "WITH helsinki AS (SELECT geom, nimi FROM kunnat WHERE nimi = 'Helsinki') \n",
    "\n",
    "SELECT count(*) FROM digiroad_uusimaa a \n",
    "JOIN helsinki b ON ST_Intersects(b.geom, a.geom);\n",
    "```\n",
    "\n",
    "Kysely on yhdellä rivillä harjoitusympäristön luonteen vuoksi, jotta ajan pystyy mittaamaan. "
   ]
  },
  {
   "cell_type": "code",
   "execution_count": null,
   "metadata": {},
   "outputs": [],
   "source": [
    "t = time.time()\n",
    "%sql DROP INDEX IF EXISTS kunnat_geom_idx\n",
    "%sql DROP INDEX IF EXISTS digiroad_geom_idx\n",
    "res = %sql WITH helsinki AS (SELECT geom, nimi FROM kunnat WHERE nimi = 'Helsinki') SELECT count(*) FROM digiroad_uusimaa a JOIN helsinki b ON ST_Intersects(b.geom, a.geom)\n",
    "print(f\"Kyselyn suorittamiseen meni {time.time() -t:5.2} s\")\n",
    "res"
   ]
  },
  {
   "cell_type": "markdown",
   "metadata": {},
   "source": [
    "Luo nyt spatiaalinen indeksi `kunnat_geom_idx` taululle kunnat syntaksilla\n",
    "\n",
    "```sql\n",
    "CREATE INDEX nimi ON taulu USING GIST (\"geom\")\n",
    "```"
   ]
  },
  {
   "cell_type": "code",
   "execution_count": null,
   "metadata": {
    "solution2": "hidden",
    "solution2_first": true
   },
   "outputs": [],
   "source": [
    "%sql "
   ]
  },
  {
   "cell_type": "code",
   "execution_count": null,
   "metadata": {
    "solution2": "hidden"
   },
   "outputs": [],
   "source": [
    "%sql CREATE INDEX kunnat_geom_idx ON kunnat USING GIST (\"geom\")"
   ]
  },
  {
   "cell_type": "markdown",
   "metadata": {},
   "source": [
    "Mittaa sitten uudelleen aika kyselyn suorittamiseen, nopeutuiko suoritus?"
   ]
  },
  {
   "cell_type": "code",
   "execution_count": null,
   "metadata": {},
   "outputs": [],
   "source": [
    "t = time.time()\n",
    "%sql WITH helsinki AS (SELECT geom, nimi FROM kunnat WHERE nimi = 'Helsinki') SELECT count(*) FROM digiroad_uusimaa a JOIN helsinki b ON ST_Intersects(b.geom, a.geom)\n",
    "print(f\"Kyselyn suorittamiseen meni {time.time() -t:5.2} s\")"
   ]
  },
  {
   "cell_type": "markdown",
   "metadata": {},
   "source": [
    "Luo vielä spatiaalinen indeksi `digiroad_geom_idx` taululle `digiroad_uusimaa`"
   ]
  },
  {
   "cell_type": "code",
   "execution_count": null,
   "metadata": {
    "solution2": "hidden",
    "solution2_first": true
   },
   "outputs": [],
   "source": [
    "%sql "
   ]
  },
  {
   "cell_type": "code",
   "execution_count": null,
   "metadata": {
    "solution2": "hidden"
   },
   "outputs": [],
   "source": [
    "%sql CREATE INDEX digiroad_geom_idx ON digiroad_uusimaa USING GIST (\"geom\")"
   ]
  },
  {
   "cell_type": "markdown",
   "metadata": {},
   "source": [
    "Mittaa uudelleen aika"
   ]
  },
  {
   "cell_type": "code",
   "execution_count": null,
   "metadata": {},
   "outputs": [],
   "source": [
    "t = time.time()\n",
    "res = %sql WITH helsinki AS (SELECT geom, nimi FROM kunnat WHERE nimi = 'Helsinki') SELECT count(*) FROM digiroad_uusimaa a JOIN helsinki b ON ST_Intersects(b.geom, a.geom)\n",
    "print(f\"Kyselyn suorittamiseen meni {time.time() -t:5.2} s\")"
   ]
  },
  {
   "cell_type": "markdown",
   "metadata": {},
   "source": [
    "Visualisoidaan helsingin teitä. Kyselyn suorittamisessa menee hetki"
   ]
  },
  {
   "cell_type": "code",
   "execution_count": null,
   "metadata": {},
   "outputs": [],
   "source": [
    "from ipygis import get_map\n",
    "res = %sql WITH helsinki AS (SELECT geom, nimi FROM kunnat WHERE nimi = 'Helsinki') SELECT a.id, arvo, muokkauspv, a.geom FROM digiroad_uusimaa a JOIN helsinki b ON ST_Intersects(b.geom, a.geom)\n",
    "map = get_map(res)\n",
    "map"
   ]
  },
  {
   "cell_type": "markdown",
   "metadata": {},
   "source": [
    "<a rel=\"license\" href=\"http://creativecommons.org/licenses/by-nd/4.0/\"><img alt=\"Creative Commons License\" style=\"border-width:0\" src=\"https://i.creativecommons.org/l/by-nd/4.0/88x31.png\" />"
   ]
  }
 ],
 "metadata": {
  "kernelspec": {
   "display_name": "Python 3",
   "language": "python",
   "name": "python3"
  },
  "language_info": {
   "codemirror_mode": {
    "name": "ipython",
    "version": 3
   },
   "file_extension": ".py",
   "mimetype": "text/x-python",
   "name": "python",
   "nbconvert_exporter": "python",
   "pygments_lexer": "ipython3",
   "version": "3.8.5"
  }
 },
 "nbformat": 4,
 "nbformat_minor": 4
}
