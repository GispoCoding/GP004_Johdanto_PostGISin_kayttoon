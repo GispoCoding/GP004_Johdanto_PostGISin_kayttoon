{
 "cells": [
  {
   "cell_type": "markdown",
   "metadata": {},
   "source": [
    "# Osa 2: Työkalujen käyttö: PgAdmin ja psql\n",
    "Tässä osassa tutustutaan PgAdmin-käyttöliittymään sekä psql:ään."
   ]
  },
  {
   "cell_type": "markdown",
   "metadata": {},
   "source": [
    "## PgAdmin 4\n",
    "Käynnistä PgAdmin 4 menemällä osoitteeseen [/pgadmin/](/pgadmin/) (http://esimerkki.fi/pgadmin/). Kirjaudu sisään osoitteella kouluttajan antamalla tunnuksella ja salasanalla.\n",
    "\n",
    "<img src=\"img/pgadmin_splash.png\" alt=\"pgadmin_splash\" style=\"width: 700px;\"/>"
   ]
  },
  {
   "cell_type": "markdown",
   "metadata": {},
   "source": [
    "### Tietokantayhteyden lisääminen\n",
    "Luo uusi tietokantayhteys tietokantaklusteriin klikkaamalla hiiren oikealla kohdasta **Servers** ja valitsemalla **Create > Server...**\n",
    "\n",
    "Täytä seuraavat tiedot:\n",
    "* Välilehdellä General: \n",
    "    * Name: yhteyden nimi. Tyypillisesti &lt;käyttäjänimi>@&lt;tietokanta>\n",
    "* Välilehdellä Connection:\n",
    "    * Host: **postgres_training** (jupyter, pgadmin ja postgresql ovat dockerin sisällä, joten localhost ei käy tässä)\n",
    "    * Port: **5432**\n",
    "    * Maintenance database:  **postgres**\n",
    "    * User: **Kysy kouluttajalta**\n",
    "    * Password: **Kysy kouluttajalta**\n",
    "    * Valitse **Save password**, jos et halua kirjoittaa sitä uudestaan avatessasi yhteyden\n",
    "\n",
    "<img src=\"img/pgadmin_create_server.gif\" alt=\"create_server\" style=\"width: 700px;\"/>"
   ]
  },
  {
   "cell_type": "markdown",
   "metadata": {},
   "source": [
    "### Kyselytyökalun käyttäminen (Query Tool)\n",
    "Kyseyltyökalun avulla voi suorittaa SQL-kyselyitä ja lauseita. Käynnistä se seuraavasti:\n",
    "* Valitse Servers-osiosta tietokantaklusterisi\n",
    "* Valitse klusterin sisältä haluamasi tietokanta\n",
    "* Valitse ylhäältä **Tools > Query Tool**\n",
    "* Voit suorittaa lauseita painamalla F5\n",
    "  * Jos haluat suorittaa vain osan lauseista, maalaam hiirellä haluttu osio ja paina F5 \n",
    "\n",
    "<img src=\"img/pgadmin_query_tool.gif\" alt=\"query_tool\" style=\"width: 700px;\"/>"
   ]
  },
  {
   "cell_type": "markdown",
   "metadata": {},
   "source": [
    "### Tietokantayhteyden sulkeminen\n",
    "Klikkaa hiiren oikealla luomastasi yhteydestä ja valitse Disconnect Server. Tämä on erityisen tärkeää, kun kurssilla on monta osallistujaa."
   ]
  },
  {
   "cell_type": "markdown",
   "metadata": {},
   "source": [
    "## psql\n",
    "Avaa [komentorivi](H1_jupyter_tutuksi.ipynb#Komentorivi), jotta pääset käyttämään psql-komentorivityökalua.\n",
    "\n",
    "Tämän jälkeen yhdistä omaan tietokataklusteriin komennolla:\n",
    "\n",
    "```sh\n",
    "psql\n",
    "```\n",
    "\n",
    "<img src=\"img/psql_start.png\" alt=\"psql_start\" style=\"width: 700px;\"/>\n",
    "\n",
    "> Tietokantayhteyden parametrin on asetettu ympäristömuuttujiksi, joten niitä ei tarvitse antaa komentoa ajaessa. \n",
    "\n"
   ]
  },
  {
   "cell_type": "markdown",
   "metadata": {},
   "source": [
    "### Käyttäminen\n",
    "Kun psql on käynnistetty, komentorivillä voit kirjoittaa sekä psql, että SQL-komentoja. Tosin psql\n",
    "sessiossa käytettäviä komentoja kutsutaan psql interaktiiviseksi.\n",
    "\n",
    "Alla muutama interaktiivinen psql-komento:\n",
    "```psql\n",
    "\\d = näytä taulut, näkymät ja sekvenssit\n",
    "\\dg = näytä tietokantaklusterin roolit (käyttäjät)\n",
    "\\c tietokannan_nimi = yhdistä tietokannan_nimi -tietokantaan\n",
    "```\n",
    "\n",
    "\n",
    "Komennolla `help` ja erityisesti komennolla `\\?` saat tietoa ohjelman eri komennoista. Pääset pois listauksesta painamalla `q`. \n",
    "\n",
    "\n",
    "SQL esimerkit:\n",
    "```sql\n",
    "select current_database();\n",
    "```\n",
    "\n",
    "Komentorivin puolella käytettäviä psql-komentoja kutsutaan ei-interaktiivisiksi. Ei-interaktiivisia psql komentoja\n",
    "käytetään kun halutaan käyttää psql:a suoraan käyttöjärjestelmän komentorivista ja valittavat psql-komennot\n",
    "ja SQL-skripttit ovat tiedostossa. Ei-interaktiivinen psql sopii erityisesti tehtävien\n",
    "automaattisointiin. Esimerkiksi, aiemmin esitetyt yhteydenottokomennot ovat ei-interaktiivisia psql-komentoja. Kokeile seuraavaa komentoa komentoriviltä:\n",
    "\n",
    "\n",
    "```sh\n",
    "psql -c \"select current_database();\"\n",
    "```"
   ]
  },
  {
   "cell_type": "markdown",
   "metadata": {},
   "source": [
    "### Tietokantayhteyden sulkeminen\n",
    "Sulkeaksesi tietokantayhteyden anna psql-ohjelmassa komento: `\\q`"
   ]
  },
  {
   "cell_type": "markdown",
   "metadata": {},
   "source": [
    "## pg_dump ja pg_restore\n",
    "\n",
    "Tietokannan tai yksittäisten taulujen varmuuskopioiden luomiseen ja palauttamiseen on omat komentoriviohjelmansa: [pg_dump](https://www.postgresql.org/docs/13/app-pgdump.html) ja [pg_restore](https://www.postgresql.org/docs/13/app-pgrestore.html). Muun muassa pgAdmin käyttää näitä sisäisesti.\n",
    "\n",
    "\n"
   ]
  },
  {
   "cell_type": "markdown",
   "metadata": {},
   "source": [
    "<a rel=\"license\" href=\"http://creativecommons.org/licenses/by-nd/4.0/\"><img alt=\"Creative Commons License\" style=\"border-width:0\" src=\"https://i.creativecommons.org/l/by-nd/4.0/88x31.png\" />"
   ]
  }
 ],
 "metadata": {
  "kernelspec": {
   "display_name": "Python 3",
   "language": "python",
   "name": "python3"
  },
  "language_info": {
   "codemirror_mode": {
    "name": "ipython",
    "version": 3
   },
   "file_extension": ".py",
   "mimetype": "text/x-python",
   "name": "python",
   "nbconvert_exporter": "python",
   "pygments_lexer": "ipython3",
   "version": "3.8.5"
  }
 },
 "nbformat": 4,
 "nbformat_minor": 4
}
