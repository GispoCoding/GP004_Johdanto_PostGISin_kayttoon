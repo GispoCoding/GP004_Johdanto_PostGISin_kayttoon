{
 "cells": [
  {
   "cell_type": "markdown",
   "metadata": {},
   "source": [
    "# Osa 6: Käyttäjien hallinta\n",
    "Tässä osassa tutustutaan erilaisiin käyttäjärooleihin ja niiden hallintaan."
   ]
  },
  {
   "cell_type": "code",
   "execution_count": null,
   "metadata": {},
   "outputs": [],
   "source": [
    "# Jos et ole suorittanut kaikkia aiempia harjoituksia, aja tämä solu\n",
    "from utils import initializer\n",
    "initializer.initialize_h7()"
   ]
  },
  {
   "cell_type": "markdown",
   "metadata": {},
   "source": [
    "### Käyttäjäroolit\n",
    "PostgreSQL:ssä käyttäjiä hallitaan rooleina (roles). Rooleja, joilla kirjaudutaan tietokantaan, kutsutaan nimellä *login roles*. Rooleja, jotka sisältävät muita rooleja kutsutaan nimellä *group roles*.\n",
    "\n",
    "*Group role* ryhmiin voidaan myös määrittää kirjautumisoikeudet tietokantaan, mutta tietokannan ylläpito\n",
    "on helpompi jos sitä vältetään.\n",
    "\n",
    "> Aiemmissa PostgreSQLversioissa käytetiin termejä users ja group, edelleen niitä voi käyttää mutta kannattaa käyttää vastaavia uusia termejä, role ja group role.\n",
    "\n",
    "\n",
    "Oletuksena PostgreSQL asennuksessa on luotu *postgres* nimiset rooli ja tietokanta. Sen lisäksi aiemmin\n",
    "luotiin koulutus niminen tietokanta. Luo nyt uusi rooli, jonka nimi on *matti*:"
   ]
  },
  {
   "cell_type": "code",
   "execution_count": null,
   "metadata": {},
   "outputs": [],
   "source": [
    "# Lataa SQL-lisäosa\n",
    "%load_ext sql\n",
    "# Luo tietokantayhteys tietokantaan koulutus\n",
    "from ipygis import get_connection_url\n",
    "c_url = get_connection_url(dbname='koulutus')\n",
    "%sql $c_url"
   ]
  },
  {
   "cell_type": "code",
   "execution_count": null,
   "metadata": {},
   "outputs": [],
   "source": [
    "%%sql\n",
    "\n",
    "CREATE ROLE matti LOGIN\n",
    "PASSWORD '1234'\n",
    "CREATEDB\n",
    "VALID UNTIL 'infinity';"
   ]
  },
  {
   "cell_type": "markdown",
   "metadata": {},
   "source": [
    "CREATEDB valitsin määrittää oikeudet roolille luoda tietokantoja.\n",
    "\n",
    "VALID määrittää kuinka pitkään rooli on voimassa.\n",
    "\n",
    "Uusi matti rooli on voimassa toistaiseksi. Sillä on oikeudet tietokantojen luomiseen, muttei ole määritelty\n",
    "ylläpitäjäksi, eli sillä on rajoitetut oikeudet.\n",
    "\n",
    "Luo nyt rooli, jolla on ylläpitäjän oikeudet käyttämällä SUPERUSER valitsinta:"
   ]
  },
  {
   "cell_type": "code",
   "execution_count": null,
   "metadata": {
    "scrolled": true
   },
   "outputs": [],
   "source": [
    "%%sql\n",
    "\n",
    "CREATE ROLE yp LOGIN\n",
    "PASSWORD '1234'\n",
    "SUPERUSER\n",
    "VALID UNTIL '2021-1-1 00:00';"
   ]
  },
  {
   "cell_type": "markdown",
   "metadata": {},
   "source": [
    "Uusi yp-roolilla on ylläpidon oikeudet ja sen salasana on voimaassa 1. tammikuun 2021 asti.\n",
    "Kun haluat nähdä palvelimessa olemassa roolit, käytä seuraavaa [psql](H2_tyokalut.ipynb#psql)-komentoa: `\\du`.\n",
    "\n",
    "Luodaan vielä kolmas käyttäjä `maija`:"
   ]
  },
  {
   "cell_type": "code",
   "execution_count": null,
   "metadata": {},
   "outputs": [],
   "source": [
    "%sql CREATE ROLE maija LOGIN PASSWORD '1234';"
   ]
  },
  {
   "cell_type": "markdown",
   "metadata": {},
   "source": [
    "## Käyttöoikeuksien lisääminen\n",
    "Käyttöoikeuksia voi lisätä `GRANT`-komennolla ja vastaavasti niitä voi poistaa `REVOKE`-komennolla. Kokeile matti-käyttäjänä lukea taulua etunimet:\n",
    "\n"
   ]
  },
  {
   "cell_type": "code",
   "execution_count": null,
   "metadata": {},
   "outputs": [],
   "source": [
    "c_url = get_connection_url(user='matti', password='1234', dbname='koulutus')\n",
    "%sql $c_url\n",
    "%sql SELECT * FROM etunimet LIMIT 10;"
   ]
  },
  {
   "cell_type": "markdown",
   "metadata": {},
   "source": [
    "Lukeminen ei onnistunut käyttöoikeuksien puutteen takia. Lisää postgres-käyttäjänä matille käyttöoikeus lukea taulua `etunimet` ja myös oikeus luoda uusia skeemoja ja tauluja"
   ]
  },
  {
   "cell_type": "code",
   "execution_count": null,
   "metadata": {
    "scrolled": true
   },
   "outputs": [],
   "source": [
    "c_url = get_connection_url(user='postgres', dbname='koulutus')\n",
    "%sql $c_url\n",
    "%sql GRANT SELECT ON etunimet TO matti;\n",
    "%sql GRANT CREATE ON DATABASE koulutus TO matti"
   ]
  },
  {
   "cell_type": "markdown",
   "metadata": {},
   "source": [
    "Nyt lukemisen pitäisi onnistua"
   ]
  },
  {
   "cell_type": "code",
   "execution_count": null,
   "metadata": {},
   "outputs": [],
   "source": [
    "# Luo tietokantayhteys tietokantaan koulutus käyttäjällä matti\n",
    "c_url = get_connection_url(user='matti', password='1234', dbname='koulutus')\n",
    "%sql $c_url\n",
    "%sql SELECT * FROM etunimet LIMIT 10;"
   ]
  },
  {
   "cell_type": "markdown",
   "metadata": {},
   "source": [
    "Luo nyt matti-käyttäjänä skeema `matin_skeema` ja sinne taulu `matit`. Poista samalla publicilta oikeudet tauluun."
   ]
  },
  {
   "cell_type": "code",
   "execution_count": null,
   "metadata": {
    "scrolled": false
   },
   "outputs": [],
   "source": [
    "%%sql\n",
    "CREATE SCHEMA matin_skeema;\n",
    "CREATE TABLE matin_skeema.matit AS (SELECT * FROM etunimet WHERE nimi LIKE 'Mat%');\n",
    "REVOKE ALL ON TABLE matin_skeema.matit FROM public;"
   ]
  },
  {
   "cell_type": "markdown",
   "metadata": {},
   "source": [
    "Yritä nyt käyttäjänä *maija* lukea taulua matit:"
   ]
  },
  {
   "cell_type": "code",
   "execution_count": null,
   "metadata": {},
   "outputs": [],
   "source": [
    "c_url = get_connection_url(user='maija', password='1234', dbname='koulutus')\n",
    "%sql $c_url\n",
    "%sql SELECT * FROM matin_skeema.matit LIMIT 10;"
   ]
  },
  {
   "cell_type": "markdown",
   "metadata": {},
   "source": [
    "## **Harjoitus 6.1**: käyttöoikeudet\n",
    "Lisää käyttäjälle *maija* käyttöoikeudet lukea ja kirjoittaa taulua `matin_skeema.matit`"
   ]
  },
  {
   "cell_type": "code",
   "execution_count": null,
   "metadata": {
    "solution2": "hidden",
    "solution2_first": true
   },
   "outputs": [],
   "source": [
    "# Tämä solu ajetaan postgres-käyttäjänä\n",
    "c_url = get_connection_url(dbname='koulutus')\n",
    "%sql $c_url\n",
    "# Luo maijalle oikeus lukea taulua etunimet\n",
    "%sql GRANT SELECT ...\n",
    "# Anna maijalle oikeus käyttää skeemaa matin_skeema\n",
    "%sql GRANT USAGE ON SCHEMA ...\n",
    "# Anna maijalle luku- ja kirjoitusoikeus tauluun matin_skeema.matit\n",
    "%sql GRANT SELECT, INSERT ..."
   ]
  },
  {
   "cell_type": "code",
   "execution_count": null,
   "metadata": {
    "solution2": "hidden"
   },
   "outputs": [],
   "source": [
    "# Tämä solu ajetaan postgres-käyttäjänä\n",
    "c_url = get_connection_url(dbname='koulutus')\n",
    "%sql $c_url\n",
    "%sql GRANT SELECT ON etunimet TO maija;\n",
    "%sql GRANT USAGE ON SCHEMA matin_skeema TO maija;\n",
    "%sql GRANT SELECT, INSERT ON matin_skeema.matit TO maija"
   ]
  },
  {
   "cell_type": "markdown",
   "metadata": {},
   "source": [
    "Lisää samalla tauluun myös etunimet, jotka alkavat merkkijonolla \"Maij\"."
   ]
  },
  {
   "cell_type": "code",
   "execution_count": null,
   "metadata": {
    "solution2": "hidden",
    "solution2_first": true
   },
   "outputs": [],
   "source": [
    "# Tämä solu ajetaan maija-käyttäjänä\n",
    "c_url = get_connection_url(user='maija', password='1234', dbname='koulutus')\n",
    "%sql $c_url\n",
    "%sql INSERT ..."
   ]
  },
  {
   "cell_type": "code",
   "execution_count": null,
   "metadata": {
    "solution2": "hidden"
   },
   "outputs": [],
   "source": [
    "# Tämä solu ajetaan maija-käyttäjänä\n",
    "c_url = get_connection_url(user='maija', password='1234', dbname='koulutus')\n",
    "%sql $c_url\n",
    "%sql INSERT INTO matin_skeema.matit (SELECT * FROM etunimet WHERE nimi LIKE 'Maij%');"
   ]
  },
  {
   "cell_type": "markdown",
   "metadata": {},
   "source": [
    "### Tarkistus\n",
    "Tarkista, että sait lisättyä Maijalle käyttöoikeudet."
   ]
  },
  {
   "cell_type": "code",
   "execution_count": null,
   "metadata": {},
   "outputs": [],
   "source": [
    "res = %sql SELECT * FROM matin_skeema.matit WHERE nimi LIKE 'Maij%'\n",
    "assert len(res) == 43, f'Tarkista tehtävä, saatiin {len(res)} riviä tulokseksi'\n",
    "res"
   ]
  },
  {
   "cell_type": "markdown",
   "metadata": {},
   "source": [
    "## Ryhmäroolit\n",
    "`Group role` luodaan SQL komennolla:\n",
    "```sq\n",
    "CREATE ROLE roolin_nimi INHERIT;\n",
    "```"
   ]
  },
  {
   "cell_type": "code",
   "execution_count": null,
   "metadata": {},
   "outputs": [],
   "source": [
    "c_url = get_connection_url(dbname='koulutus')\n",
    "%sql $c_url\n",
    "%sql CREATE ROLE editor INHERIT;"
   ]
  },
  {
   "cell_type": "markdown",
   "metadata": {},
   "source": [
    "INHERIT valitsin tarkoittaa se, että editor rooli perii oikeudet niiltä rooleilta, joiden jäsen se on. Poikeuksena superuser oikeus, joka ei kuitenkaan koskaan periydy PostgreSQL:ssä.\n",
    "\n",
    "Lisää äsken luomasi roolit ryhmään seuraavasti:"
   ]
  },
  {
   "cell_type": "code",
   "execution_count": null,
   "metadata": {},
   "outputs": [],
   "source": [
    "%%sql\n",
    "GRANT editor TO matti;\n",
    "GRANT editor TO yp;"
   ]
  },
  {
   "cell_type": "markdown",
   "metadata": {},
   "source": [
    "## Roolien käyttöä\n",
    "\n",
    "Tähän asti olemme muodostanut yhteyttä palvelimeen postgres-roolilla, jolla muun muuassa on\n",
    "ylläpitäjän oikeudet. Salasana on tallennettu ympäristömuuttujaan, josta psql osaa sen kaivaa. Psql:n saa kuitenkin kysymään salasanaa antamalla sille argumentin **W**. Kirjautuminen tapahtuu konsolista tällä tutulla komennolla:\n",
    "\n",
    "```sh\n",
    "psql -U matti -W\n",
    "```\n",
    "Kirjautuessa pyydetään salasana, sen määriteltiin aiemmin: 1234. Mutta kirjautuminen kuitenkin\n",
    "epäonnistu, koska palvelimesta ei löytynyt matti-nimistä tietokantaa.\n",
    "\n",
    "PostgreSQL vaatii, että kirjaudutaan johonkin tietokantaan. Tähän asti ei tämä ole ollut ongelmaa koska,\n",
    "kirjauduttiin PostgreSQL postgres-roolilla ja saman nimisen tietokanta on kyllä olemassa palvelimessa.\n",
    "\n",
    "Kun kirjaudutaan PostgreSQL, täytyy määritellä tietokannan nimi. Esimerkiksi:\n",
    "\n",
    "```sh\n",
    "psql -U matti -d koulutus -W\n",
    "```\n",
    "\n",
    "Huomaa vielä, että nyt psql-konsolissa tietokannan nimen jälkeen merkki on nyt > eikä #. Tämä\n",
    "tarkoittaa, että käyttäjällä ei ole ylläpidon oikeuksia."
   ]
  },
  {
   "cell_type": "markdown",
   "metadata": {},
   "source": [
    "## **Harjoitus 6.2**: Roolien luominen pgAdmin kautta\n",
    "Roolien hallinta pgAdmin käyttöliittymän kautta on huomattavasti selkeämpää.\n",
    "\n",
    "<img src=\"img/pgadmin_create_role.gif\" alt=\"createrole_pgadmin\" style=\"width: 700px;\"/>\n",
    "Luo vielä yksi uusi rooli painamalla oikea hiiren näppäintä Login roles kohtaa ja täytä tiedot eri\n",
    "välilehdissä seuraavaksi:\n",
    "\n",
    "    nimi: tiia\n",
    "    salasan: 1234\n",
    "    rooliryhmä: editor\n",
    "    ylläpitäjän oikeudet\n",
    "\n",
    "Tutustuu muihin asetuksia ja kokeile niitä uudessa roolissa.\n",
    "\n",
    "Kokeile myös poistaa yp-rooli käyttöliittymän kautta.\n",
    "> SQL-komento käyttäjien poistamiseen on\n",
    "    ```\n",
    "    DROP ROLE <nimi>;\n",
    "    ```"
   ]
  },
  {
   "cell_type": "markdown",
   "metadata": {},
   "source": [
    "## **Harjoitus 6.3**: Tietokannan omistussuhteen muutos\n",
    "Edellisissä harjoituksessa luotiin tietokanta koulutus. Tietokannan omistaja on postgres.\n",
    "\n",
    "Vaihdetaan nyt omistus matti-roolille.\n",
    "Muodosta konsolilla uutta yhteyttä tietokantaan postgres-roolilla, sillä taulun omistajan vaihdon voi suorittaa vain ylläpitäjä tai taulun omistaja. Käytä syntaksia:\n",
    "\n",
    "```sql\n",
    "ALTER DATABASE tietokanta OWNER TO käyttäjä;\n",
    "```"
   ]
  },
  {
   "cell_type": "code",
   "execution_count": null,
   "metadata": {},
   "outputs": [],
   "source": [
    "c_url = get_connection_url() # ilman parametreja postgres-käyttäjä\n",
    "%sql $c_url"
   ]
  },
  {
   "cell_type": "code",
   "execution_count": null,
   "metadata": {
    "solution2": "hidden",
    "solution2_first": true
   },
   "outputs": [],
   "source": [
    "%sql ALTER ..."
   ]
  },
  {
   "cell_type": "code",
   "execution_count": null,
   "metadata": {
    "solution2": "hidden"
   },
   "outputs": [],
   "source": [
    "%%sql\n",
    "ALTER DATABASE koulutus OWNER TO matti;"
   ]
  },
  {
   "cell_type": "markdown",
   "metadata": {},
   "source": [
    "### Tarkistus\n",
    "Aja alla olevat kaksi solua tarkistaaksesi, että omistuksen muutos onnistui."
   ]
  },
  {
   "cell_type": "code",
   "execution_count": null,
   "metadata": {},
   "outputs": [],
   "source": [
    "%%sql\n",
    "res <<\n",
    "SELECT d.datname as \"Name\", pg_catalog.pg_get_userbyid(d.datdba) as \"Owner\"\n",
    "    FROM pg_catalog.pg_database d\n",
    "    WHERE d.datname = 'koulutus'\n",
    "ORDER BY 1;"
   ]
  },
  {
   "cell_type": "code",
   "execution_count": null,
   "metadata": {},
   "outputs": [],
   "source": [
    "assert res[0][1] == 'matti', f'Omistaja on matin sijaan {res[0][1]}'\n",
    "res"
   ]
  },
  {
   "cell_type": "markdown",
   "metadata": {},
   "source": [
    "<a rel=\"license\" href=\"http://creativecommons.org/licenses/by-nd/4.0/\"><img alt=\"Creative Commons License\" style=\"border-width:0\" src=\"https://i.creativecommons.org/l/by-nd/4.0/88x31.png\" />"
   ]
  }
 ],
 "metadata": {
  "kernelspec": {
   "display_name": "Python 3",
   "language": "python",
   "name": "python3"
  },
  "language_info": {
   "codemirror_mode": {
    "name": "ipython",
    "version": 3
   },
   "file_extension": ".py",
   "mimetype": "text/x-python",
   "name": "python",
   "nbconvert_exporter": "python",
   "pygments_lexer": "ipython3",
   "version": "3.8.5"
  }
 },
 "nbformat": 4,
 "nbformat_minor": 4
}
